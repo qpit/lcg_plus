{
 "cells": [
  {
   "cell_type": "code",
   "execution_count": 1,
   "id": "ee8fd1fb-910c-4804-aaf7-7311a8d08d54",
   "metadata": {},
   "outputs": [],
   "source": [
    "import numpy as np\n",
    "from bosonicplus.base import State\n",
    "from bosonicplus.operations.symplectic import squeezing"
   ]
  },
  {
   "cell_type": "code",
   "execution_count": 2,
   "id": "cb02df1e-48a0-4dc6-8178-671813ee93ab",
   "metadata": {},
   "outputs": [
    {
     "name": "stdout",
     "output_type": "stream",
     "text": [
      "(1.3810978455418155, 6.57705820900412)\n",
      "nbar 1.3810978455418155\n",
      "nvar 6.577058209004121\n"
     ]
    }
   ],
   "source": [
    "#Check that photon-number moment calculation works on a squeezed state\n",
    "state = State(1)\n",
    "r = 1\n",
    "state.apply_symplectic(squeezing(r,0 ))\n",
    "\n",
    "print(state.get_photon_number_moments())\n",
    "print('nbar', np.sinh(r)**2)\n",
    "print('nvar', 2 * np.sinh(r)**2*np.cosh(r)**2)"
   ]
  },
  {
   "cell_type": "code",
   "execution_count": 3,
   "id": "cdcc44fa-f969-43fb-b7bb-c64c3702970e",
   "metadata": {},
   "outputs": [
    {
     "name": "stdout",
     "output_type": "stream",
     "text": [
      "(0.25, 0.24999999999999994)\n",
      "0.25\n"
     ]
    }
   ],
   "source": [
    "#Photon number moment of a coherent state\n",
    "state = State(1)\n",
    "alpha = 0.5\n",
    "state.apply_displacement(np.array([alpha*np.sqrt(2*state.hbar),0]))\n",
    "print(state.get_photon_number_moments())\n",
    "print(alpha**2)"
   ]
  },
  {
   "cell_type": "code",
   "execution_count": 4,
   "id": "56c8c2a1-2140-4208-bb10-6c237c334b87",
   "metadata": {},
   "outputs": [
    {
     "name": "stdout",
     "output_type": "stream",
     "text": [
      "1.0000000827403705e-10 9.999999999999996e-11\n",
      "1.0000000001991225 1.0000000001987743\n",
      "2.0000000000316818 2.000000000037667\n",
      "3.000000000912946 3.000000000895086\n",
      "4.000000000441295 4.000000000441288\n",
      "5.000000000490432 5.000000000490432\n",
      "6.000000000923478 6.000000000923478\n",
      "7.0000000008946826 7.0000000008946826\n",
      "8.000000000937657 8.000000000937657\n",
      "9.000000000937037 9.000000000937037\n"
     ]
    }
   ],
   "source": [
    "#Calculating the photon-number moments in the coherent state decomposition\n",
    "\n",
    "from bosonicplus.states.nongauss import prepare_fock_coherent\n",
    "\n",
    "#Fock state \n",
    "ns = np.arange(10)\n",
    "for n in ns:\n",
    "    fock = prepare_fock_coherent(n, inf = 1e-10, fast = True) \n",
    "    ex, var = fock.get_photon_number_moments()\n",
    "    print(ex.real, var.real)"
   ]
  },
  {
   "cell_type": "code",
   "execution_count": 5,
   "id": "a0d24971-08ed-429e-8071-20ce4c387709",
   "metadata": {},
   "outputs": [
    {
     "name": "stdout",
     "output_type": "stream",
     "text": [
      "(12.667835405434724-52.90988098408059j)\n",
      "(88.50284903776038-206.14065659279095j)\n"
     ]
    }
   ],
   "source": [
    "#Apply Gaussian ops on a Fock state\n",
    "\n",
    "n = 3\n",
    "eta = 1\n",
    "r = 1\n",
    "state = prepare_fock_coherent(n, inf = 1e-5, fast = True) \n",
    "state.apply_loss(np.array([eta]), np.zeros(1))\n",
    "state.apply_symplectic(squeezing(r,0))\n",
    "ex, var = state.get_photon_number_moments()\n",
    "print(ex)\n",
    "print(var)"
   ]
  },
  {
   "cell_type": "code",
   "execution_count": 6,
   "id": "363f32a7-b61a-4cb9-be7c-655a66ef2786",
   "metadata": {},
   "outputs": [],
   "source": [
    "#Check with strawberryfields\n",
    "import strawberryfields as sf\n",
    "from strawberryfields.ops import Sgate, BSgate, MeasureFock, MeasureHomodyne, Fock, Catstate, LossChannel"
   ]
  },
  {
   "cell_type": "code",
   "execution_count": 7,
   "id": "503173f2-616d-4a7f-b17f-245891d18a0c",
   "metadata": {},
   "outputs": [
    {
     "data": {
      "text/plain": [
       "(12.667684918792709, 85.50175671705358)"
      ]
     },
     "execution_count": 7,
     "metadata": {},
     "output_type": "execute_result"
    }
   ],
   "source": [
    "eng = sf.Engine('fock', backend_options={\"cutoff_dim\": 200})\n",
    "prog = sf.Program(1)\n",
    "\n",
    "\n",
    "with prog.context as q:\n",
    "    Fock(n) | q[0]\n",
    "    LossChannel(eta) | q[0]\n",
    "    Sgate(r,0) | q[0]\n",
    "    \n",
    "result = eng.run(prog)\n",
    "\n",
    "state = result.state\n",
    "state.mean_photon(0)"
   ]
  },
  {
   "cell_type": "code",
   "execution_count": null,
   "id": "660e1b69-59db-4b4e-ae49-69b4f503fa04",
   "metadata": {},
   "outputs": [],
   "source": []
  }
 ],
 "metadata": {
  "kernelspec": {
   "display_name": "240229-olga-cv-sim",
   "language": "python",
   "name": "240229-olga-cv-sim"
  },
  "language_info": {
   "codemirror_mode": {
    "name": "ipython",
    "version": 3
   },
   "file_extension": ".py",
   "mimetype": "text/x-python",
   "name": "python",
   "nbconvert_exporter": "python",
   "pygments_lexer": "ipython3",
   "version": "3.11.3"
  }
 },
 "nbformat": 4,
 "nbformat_minor": 5
}
