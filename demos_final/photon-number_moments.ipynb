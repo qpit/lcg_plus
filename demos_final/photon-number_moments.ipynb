{
 "cells": [
  {
   "cell_type": "markdown",
   "id": "049842aa-4c87-43d9-967d-828cc5fcc08d",
   "metadata": {},
   "source": [
    "Copyright © 2025 Technical University of Denmark"
   ]
  },
  {
   "cell_type": "code",
   "execution_count": 1,
   "id": "ee8fd1fb-910c-4804-aaf7-7311a8d08d54",
   "metadata": {},
   "outputs": [],
   "source": [
    "import numpy as np\n",
    "from lcg_plus.base import State\n",
    "from lcg_plus.operations.symplectic import squeezing"
   ]
  },
  {
   "cell_type": "code",
   "execution_count": 2,
   "id": "cb02df1e-48a0-4dc6-8178-671813ee93ab",
   "metadata": {},
   "outputs": [
    {
     "name": "stdout",
     "output_type": "stream",
     "text": [
      "(1.3810978455418155, 6.57705820900412)\n",
      "nbar 1.3810978455418155\n",
      "nvar 6.577058209004121\n"
     ]
    }
   ],
   "source": [
    "#Check that photon-number moment calculation works on a squeezed state\n",
    "state = State(1)\n",
    "r = 1\n",
    "state.apply_symplectic(squeezing(r,0 ))\n",
    "\n",
    "print(state.get_photon_number_moments())\n",
    "print('nbar', np.sinh(r)**2)\n",
    "print('nvar', 2 * np.sinh(r)**2*np.cosh(r)**2)"
   ]
  },
  {
   "cell_type": "code",
   "execution_count": 3,
   "id": "cdcc44fa-f969-43fb-b7bb-c64c3702970e",
   "metadata": {},
   "outputs": [
    {
     "name": "stdout",
     "output_type": "stream",
     "text": [
      "(0.25, 0.24999999999999994)\n",
      "0.25\n"
     ]
    }
   ],
   "source": [
    "#Photon number moment of a coherent state\n",
    "state = State(1)\n",
    "alpha = 0.5\n",
    "state.apply_displacement(np.array([alpha*np.sqrt(2*state.hbar),0]))\n",
    "print(state.get_photon_number_moments())\n",
    "print(alpha**2)"
   ]
  },
  {
   "cell_type": "code",
   "execution_count": 4,
   "id": "56c8c2a1-2140-4208-bb10-6c237c334b87",
   "metadata": {},
   "outputs": [
    {
     "name": "stdout",
     "output_type": "stream",
     "text": [
      "1.0000000827403705e-10 9.999999999999996e-11\n",
      "1.0000000001991225 1.0000000001987743\n",
      "2.0000000000316818 2.000000000037667\n",
      "3.000000000912946 3.000000000895086\n",
      "4.000000000441295 4.000000000441288\n",
      "5.000000000490432 5.000000000490432\n",
      "6.000000000923478 6.000000000923478\n",
      "7.0000000008946826 7.0000000008946826\n",
      "8.000000000937657 8.000000000937657\n",
      "9.000000000937037 9.000000000937037\n",
      "10.000000001091172 10.00000000109577\n",
      "11.000000001208567 11.000000001208567\n",
      "12.000000001293273 12.000000001293273\n",
      "13.00000000139701 13.00000000139701\n",
      "14.000000001500947 14.000000001500947\n",
      "15.000000001600178 15.000000001600178\n",
      "16.000000001700105 16.000000001700105\n",
      "17.000000001799837 17.000000001799837\n",
      "18.000000001900148 18.000000001900105\n",
      "19.00000000199999 19.00000000199999\n",
      "20.000000002099902 20.000000002099902\n",
      "21.00000000219985 21.00000000219985\n",
      "22.00000000230013 22.00000000230013\n",
      "23.000000002400096 23.000000002400096\n",
      "24.000000002500006 24.000000002500006\n",
      "25.00000000259999 25.00000000259999\n",
      "26.000000002700013 26.000000002700013\n",
      "27.00000000279996 27.00000000279996\n",
      "28.000000002900034 28.000000002900034\n",
      "29.00000000300003 29.00000000300003\n"
     ]
    }
   ],
   "source": [
    "#Calculating the photon-number moments in the coherent state decomposition\n",
    "\n",
    "from lcg_plus.states.nongauss import prepare_fock_coherent\n",
    "\n",
    "#Fock state \n",
    "ns = np.arange(30)\n",
    "for n in ns:\n",
    "    fock = prepare_fock_coherent(n, inf = 1e-10, fast = True) \n",
    "    ex, var = fock.get_photon_number_moments()\n",
    "    print(ex.real, var.real)"
   ]
  },
  {
   "cell_type": "code",
   "execution_count": 5,
   "id": "a0d24971-08ed-429e-8071-20ce4c387709",
   "metadata": {},
   "outputs": [
    {
     "name": "stdout",
     "output_type": "stream",
     "text": [
      "(12.616198975025634+17.67975840871381j)\n",
      "(30.78814755872905+44.44649315737482j)\n",
      "(6.513702093008666+3.4117689543309364j)\n"
     ]
    }
   ],
   "source": [
    "#Apply Gaussian ops on a Fock state\n",
    "\n",
    "n = 10\n",
    "eta = 0.8\n",
    "r = 0.5\n",
    "state = prepare_fock_coherent(n, inf = 1e-6, fast = True) \n",
    "state.apply_loss(np.array([eta]), np.zeros(1))\n",
    "\n",
    "state.apply_symplectic(squeezing(r,0))\n",
    "ex, var = state.get_photon_number_moments()\n",
    "print(ex)\n",
    "print(var)\n",
    "print(np.sqrt(var))"
   ]
  },
  {
   "cell_type": "code",
   "execution_count": 6,
   "id": "363f32a7-b61a-4cb9-be7c-655a66ef2786",
   "metadata": {},
   "outputs": [],
   "source": [
    "#Check with strawberryfields\n",
    "import strawberryfields as sf\n",
    "from strawberryfields.ops import Sgate, BSgate, MeasureFock, MeasureHomodyne, Fock, Catstate, LossChannel"
   ]
  },
  {
   "cell_type": "code",
   "execution_count": 7,
   "id": "503173f2-616d-4a7f-b17f-245891d18a0c",
   "metadata": {},
   "outputs": [
    {
     "name": "stdout",
     "output_type": "stream",
     "text": [
      "12.616185395929595\n",
      "55.324706191576496\n",
      "7.4380579583367386\n"
     ]
    }
   ],
   "source": [
    "eng = sf.Engine('fock', backend_options={\"cutoff_dim\":300})\n",
    "prog = sf.Program(1)\n",
    "\n",
    "\n",
    "with prog.context as q:\n",
    "    Fock(n) | q[0]\n",
    "    LossChannel(eta) | q[0]\n",
    "    Sgate(r,0) | q[0]\n",
    "    \n",
    "result = eng.run(prog)\n",
    "\n",
    "state = result.state\n",
    "ex, var = state.mean_photon(0)\n",
    "print(ex)\n",
    "print(var)\n",
    "print(np.sqrt(var))"
   ]
  },
  {
   "cell_type": "code",
   "execution_count": null,
   "id": "7dc05826-95f1-4f84-8803-0cc7d30ef9ab",
   "metadata": {},
   "outputs": [],
   "source": []
  }
 ],
 "metadata": {
  "kernelspec": {
   "display_name": "240229-olga-cv-sim",
   "language": "python",
   "name": "240229-olga-cv-sim"
  },
  "language_info": {
   "codemirror_mode": {
    "name": "ipython",
    "version": 3
   },
   "file_extension": ".py",
   "mimetype": "text/x-python",
   "name": "python",
   "nbconvert_exporter": "python",
   "pygments_lexer": "ipython3",
   "version": "3.11.3"
  }
 },
 "nbformat": 4,
 "nbformat_minor": 5
}
